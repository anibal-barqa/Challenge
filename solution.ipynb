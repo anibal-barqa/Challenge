{
 "cells": [
  {
   "cell_type": "markdown",
   "metadata": {},
   "source": [
    "# Data scientist challenge - LATAM Airlines"
   ]
  },
  {
   "cell_type": "markdown",
   "metadata": {},
   "source": [
    "## TABLA DE CONTENIDOS:\n",
    "\n",
    "* [1 - DATA PREPROCESSING](#pre)\n",
    "    * [1.1 - MODULES IMPORT](#package)\n",
    "    * [1.2 - DATABASE IMPORT](#import)\n",
    "    * [1.3 - EXPLORATORY ANALYSIS](#exp)\n",
    "    * [1.4 - DATA CLEANING](#clean)\n",
    "    * [1.5 - DESCRIPTIVE ANALYSIS](#desc)\n",
    "    * [1.6 - DEFINITION OF TRAINING AND TEST DATA](#split)\n",
    "    \n",
    "* [2 - DATA MODELING](#model)\n",
    "    * [2.1 - MODEL 1: LINEAR REGRESSION](#glm)\n",
    "    * [2.2 - MODEL 2: RANDOM FOREST](#random)\n",
    "    * [2.3 - MODEL 3: NEURAL NETWORKS](#neural)\n",
    "* [3 - CONCLUSIONS](#conc)"
   ]
  },
  {
   "cell_type": "markdown",
   "metadata": {},
   "source": [
    "## 1 - DATA PREPROCESSING <a class=\"anchor\" id=\"pre\"></a>"
   ]
  },
  {
   "cell_type": "markdown",
   "metadata": {},
   "source": [
    "### 1.1 - MODULES IMPORT <a class=\"anchor\" id=\"package\"></a>"
   ]
  }
 ],
 "metadata": {
  "kernelspec": {
   "display_name": "Python 3",
   "language": "python",
   "name": "python3"
  },
  "language_info": {
   "codemirror_mode": {
    "name": "ipython",
    "version": 3
   },
   "file_extension": ".py",
   "mimetype": "text/x-python",
   "name": "python",
   "nbconvert_exporter": "python",
   "pygments_lexer": "ipython3",
   "version": "3.8.3"
  }
 },
 "nbformat": 4,
 "nbformat_minor": 4
}
